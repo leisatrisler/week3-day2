{
 "cells": [
  {
   "attachments": {},
   "cell_type": "markdown",
   "metadata": {},
   "source": [
    "#### Exercise 1 - Class Inheritance"
   ]
  },
  {
   "attachments": {},
   "cell_type": "markdown",
   "metadata": {},
   "source": [
    "Create an Employee class that sets an employee's first name, last name, job title, salary, and email. The Employee class should have a class attribute for the raise amount set to 5% (1.05). Create a method that will apply the raise to an employee's salary."
   ]
  },
  {
   "cell_type": "code",
   "execution_count": 108,
   "metadata": {},
   "outputs": [
    {
     "name": "stdout",
     "output_type": "stream",
     "text": [
      "21.0\n"
     ]
    }
   ],
   "source": [
    "class Employee:\n",
    "    def __init__(self, fname, lname, job_title, salary, email):\n",
    "        self.fname = fname #Attribute\n",
    "        self.lname = lname#Attribute\n",
    "        self.job_title = job_title #Attribute\n",
    "        self.salary = salary #Attribute\n",
    "        self.email = email #Attribute\n",
    "        \n",
    "    def get_raise(self):\n",
    "        current_salary = self.salary\n",
    "        new_salary = current_salary * 0.05\n",
    "        self.salary = current_salary + new_salary\n",
    "        print(self.salary)\n",
    "\n",
    "employee = Employee(\"Dustin\", \"Smith\", \"CEO\", 20, \"ds@gmail.com\")\n",
    "employee.get_raise()\n"
   ]
  },
  {
   "attachments": {},
   "cell_type": "markdown",
   "metadata": {},
   "source": [
    "Create two more classes that inherit from the Employee class. One for Sales and one for Development. Both of these classes will have the same attributes as the Employee.<br>\n",
    "- For the Sales employees, add a phone number attribute on instantiation using the super method. \n",
    "- Create a method on the Sales class that will Send a Follow Up Email. It should take in a customer name and \"send\" aka print a formatted email \"Dear *customer*, Thank you for your interest in our product. Please let me know if you have any questions. My email is *email* or my phone number is *phone number*. Thanks, *full name*\"\n",
    "- Create a method on the Development class called code that will print out \"*full name* is writing code\"."
   ]
  },
  {
   "cell_type": "code",
   "execution_count": 109,
   "metadata": {},
   "outputs": [
    {
     "name": "stdout",
     "output_type": "stream",
     "text": [
      " Dear White Rabbit, Thank you for your interest in purchasing land at Wonderland. Please let me know if you have any questions. My email is, downtherabbithole@wonderlanddepot.com, or my phone number is, 101-101-1010, Thanks, Alice Wonderland\n",
      " Queen Of Hearts is writing Code ...\n"
     ]
    }
   ],
   "source": [
    "#Class Employee: #Parent Class\n",
    "class Sales(Employee): # Child Class\n",
    "    def __init__(self, fname, lname, job_title, salary, email, customer_name, sales_phone_number):\n",
    "        super().__init__(fname, lname, job_title, salary, email)\n",
    "        self.sales_phone_number = sales_phone_number # Attribute\n",
    "        self.customer_name = customer_name # Attribute\n",
    "\n",
    "    def send_email(self):\n",
    "        print(f\" Dear {self.customer_name}, Thank you for your interest in purchasing land at Wonderland. Please let me know if you have any questions. My email is, {self.email}, or my phone number is, {self.sales_phone_number}, Thanks, {self.fname} {self.lname}\")\n",
    "\n",
    "sales = Sales (\"Alice\", \"Wonderland\", \"Lost\", 101010, \"downtherabbithole@wonderlanddepot.com\", \"White Rabbit\", \"101-101-1010\")\n",
    "sales.send_email()\n",
    "\n",
    "class Development(Employee): # Child Class\n",
    "    def __init__(self, fname, lname, job_title, salary, email):\n",
    "        super().__init__(fname, lname, job_title, salary, email)\n",
    "    def writing_code(self):\n",
    "        print(f\" {self.fname} {self.lname} is writing Code ...\")\n",
    "\n",
    "development = Development (\"Queen\", \"Of Hearts\", \"Lost\", 101010, \"downtherabbithole@wonderlanddepot.com\",)\n",
    "development.writing_code()\n",
    "\n",
    "\n"
   ]
  },
  {
   "attachments": {},
   "cell_type": "markdown",
   "metadata": {},
   "source": [
    "- Create an instance of a Sales Employee with a salary of $50,000.\n",
    "- Send follow up emails to \"Mike O'Neil\" and \"Hannah Stern\"\n",
    "- Give the employee a raise and print the salary"
   ]
  },
  {
   "cell_type": "code",
   "execution_count": 110,
   "metadata": {},
   "outputs": [
    {
     "name": "stdout",
     "output_type": "stream",
     "text": [
      " Dear Mad Hatter, Thank you for your interest in purchasing land at Wonderland. Please let me know if you have any questions. My email is, downtherabbithole@wonderlanddepot.com, or my phone number is, 101-101-1010, Thanks, Alice Wonderland\n",
      "\n",
      "106060.5\n",
      " Dear Cheshire Cat, Thank you for your interest in purchasing land at Wonderland. Please let me know if you have any questions. My email is, downtherabbithole@wonderlanddepot.com, or my phone number is, 101-101-1010, Thanks, Alice Wonderland\n",
      "\n",
      "106060.5\n"
     ]
    }
   ],
   "source": [
    "sales = Sales (\"Alice\", \"Wonderland\", \"Lost\", 101010, \"downtherabbithole@wonderlanddepot.com\", \"Mad Hatter\", \"101-101-1010\")\n",
    "sales.send_email()\n",
    "print(\"\")\n",
    "sales.get_raise()\n",
    "\n",
    "sales = Sales (\"Alice\", \"Wonderland\", \"Lost\", 101010, \"downtherabbithole@wonderlanddepot.com\", \"Cheshire Cat\", \"101-101-1010\")\n",
    "sales.send_email()\n",
    "print(\"\")\n",
    "sales.get_raise()"
   ]
  },
  {
   "attachments": {},
   "cell_type": "markdown",
   "metadata": {},
   "source": [
    "- Create an instance of a Development Employee with a salary of $100,000\n",
    "- Write some code with this employee\n",
    "- Give the employee a raise and print the salary"
   ]
  },
  {
   "cell_type": "code",
   "execution_count": 111,
   "metadata": {},
   "outputs": [
    {
     "name": "stdout",
     "output_type": "stream",
     "text": [
      " Queen Of Hearts is writing Code ...\n",
      "105000.0\n"
     ]
    }
   ],
   "source": [
    "development = Development (\"Queen\", \"Of Hearts\", \"Lost\", 100000, \"downtherabbithole@wonderlanddepot.com\",)\n",
    "development.writing_code()\n",
    "development.get_raise()"
   ]
  },
  {
   "attachments": {},
   "cell_type": "markdown",
   "metadata": {},
   "source": [
    "#### Exercise 2 - Importing Modules"
   ]
  },
  {
   "attachments": {},
   "cell_type": "markdown",
   "metadata": {},
   "source": [
    "In VS Code, create a module titled `geometry` and add two functions in there. One that will calculate the area of a circle given a radius. The second will find the hypotenuse of a right angle given the two sides. Import the module or the functions from the module and use it to find the answers to the below questions"
   ]
  },
  {
   "attachments": {},
   "cell_type": "markdown",
   "metadata": {},
   "source": [
    "What is the area of a circle with a radius of 7cm?"
   ]
  },
  {
   "cell_type": "code",
   "execution_count": 112,
   "metadata": {},
   "outputs": [
    {
     "name": "stdout",
     "output_type": "stream",
     "text": [
      "<module 'math' from '/Library/Frameworks/Python.framework/Versions/3.11/lib/python3.11/lib-dynload/math.cpython-311-darwin.so'>\n",
      "636172.512351933\n",
      "451.51854889915654\n"
     ]
    }
   ],
   "source": [
    "# import name_of_module   #Here's my Hippo lol\n",
    "import math as geometry\n",
    "print(geometry)\n",
    "def cal_radius(r):\n",
    "    print(geometry.pi * r *r)\n",
    "cal_radius(450)\n",
    "\n",
    "\n",
    "def cal_hippo(s1, s2):\n",
    "    print(geometry.sqrt(s1**2 + s2**2))\n",
    "cal_hippo(450, 37)"
   ]
  },
  {
   "attachments": {},
   "cell_type": "markdown",
   "metadata": {},
   "source": [
    "What is the hypotenuse of a right angle with sides of 3in and 4in?"
   ]
  },
  {
   "cell_type": "code",
   "execution_count": 113,
   "metadata": {},
   "outputs": [
    {
     "name": "stdout",
     "output_type": "stream",
     "text": [
      "21.248965831285922\n"
     ]
    }
   ],
   "source": [
    "def cal_hippo(hippo1, hippo2):  # I don't even know if this is right but I'm taken Python not Calculus lol, # I tried lol\n",
    "    print(geometry.sqrt((hippo1**2 + hippo2**2)**0.5))\n",
    "cal_hippo(450, 37)"
   ]
  }
 ],
 "metadata": {
  "kernelspec": {
   "display_name": "Python 3",
   "language": "python",
   "name": "python3"
  },
  "language_info": {
   "codemirror_mode": {
    "name": "ipython",
    "version": 3
   },
   "file_extension": ".py",
   "mimetype": "text/x-python",
   "name": "python",
   "nbconvert_exporter": "python",
   "pygments_lexer": "ipython3",
   "version": "3.11.3"
  }
 },
 "nbformat": 4,
 "nbformat_minor": 4
}
